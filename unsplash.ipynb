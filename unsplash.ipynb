{
 "cells": [
  {
   "cell_type": "code",
   "execution_count": 1,
   "metadata": {},
   "outputs": [
    {
     "name": "stdout",
     "output_type": "stream",
     "text": [
      "The dotenv extension is already loaded. To reload it, use:\n",
      "  %reload_ext dotenv\n"
     ]
    }
   ],
   "source": [
    "# Load in the required dotenv vars\n",
    "import os\n",
    "\n",
    "# Config stuff\n",
    "%reload_ext dotenv\n",
    "%load_ext dotenv\n",
    "%dotenv\n",
    "\n",
    "\n",
    "UNSPLASH_ACCESS_KEY = os.environ.get(\"UNSPLASH_ACCESS_KEY\")\n",
    "# UNSPLASH_ACCESS_KEY = UNSPLASH_ACCESS_KEY[1:-1]\n",
    "\n",
    "WORKING_DIRECTORY = os.environ.get(\"WORKING_DIRECTORY\")"
   ]
  },
  {
   "cell_type": "markdown",
   "metadata": {},
   "source": [
    "# Get Ids to download\n",
    "Get all ids from links.txt file"
   ]
  },
  {
   "cell_type": "code",
   "execution_count": 2,
   "metadata": {},
   "outputs": [
    {
     "name": "stdout",
     "output_type": "stream",
     "text": [
      "[('gqsXXRPLeYc', 'StarFish', ['Animals', 'Ocean', 'Nature']), ('lAbeh5se1So', 'DragonFly', ['Animals', 'Bugs', 'Nature']), ('KYBy7FfU0X0', 'Fox', ['Animals', 'Mammals', 'Nature']), ('nqF5_MWZN_E', 'Crane', ['Animals', 'Birds', 'Nature']), ('OMRaYnGjgX4', 'Humming Bird', ['Animals', 'Birds', 'Nature']), ('_z7Mmx4s4TU', 'Elk', ['Animals', 'Mammals', 'Nature']), ('6YSEA6gUBQU', 'Seals', ['Animals', 'Mammals', 'Nature']), ('9wVMpUP9r0E', 'Turtle', ['Animals', 'Amphibiens', 'Nature']), ('BWxX03RWcs4', 'Pelican', ['Animals', 'Birds', 'Nature']), ('ogWhdXOl5qY', 'Penguins', ['Animals', 'Birds', 'Nature']), ('VhxySLSw0aA', 'Peacock', ['Animals', 'Birds', 'Nature']), ('j-07TGoyQ0M', 'Baboon', ['Animals', 'Mammals', 'Nature']), ('Mbbek5WYCGo', 'White Tigre', ['Animals', 'Mammals', 'Nature']), ('XZ0RVScXu_s', 'Jellyfish', ['Animals', 'Ocean', 'Nature'])]\n"
     ]
    }
   ],
   "source": [
    "path = WORKING_DIRECTORY + \"\\\\links.txt\"\n",
    "\n",
    "with open(path) as f:\n",
    "    unsplash_pairs = f.readlines()\n",
    "\n",
    "for i in range(len(unsplash_pairs)):\n",
    "    unsplash_pairs[i] = unsplash_pairs[i].strip('\\n')\n",
    "\n",
    "for i in range(len(unsplash_pairs)):\n",
    "    pieces = unsplash_pairs[i].split(' %=% ')\n",
    "    unsplash_pairs[i] = (pieces[0], pieces[1], pieces[2].split(','))\n",
    "\n",
    "\n",
    "print(unsplash_pairs)"
   ]
  },
  {
   "cell_type": "markdown",
   "metadata": {},
   "source": [
    "# Request from Unsplash"
   ]
  },
  {
   "cell_type": "code",
   "execution_count": 5,
   "metadata": {},
   "outputs": [
    {
     "name": "stdout",
     "output_type": "stream",
     "text": [
      "zTl6GXiIAYcfa0JdKzTQuxCgt5Ljdca-j2SENBLhz\n",
      "gqsXXRPLeYc\n"
     ]
    },
    {
     "ename": "ValueError",
     "evalue": "Invalid parameter to constructor: None",
     "output_type": "error",
     "traceback": [
      "\u001b[1;31m---------------------------------------------------------------------------\u001b[0m",
      "\u001b[1;31mValueError\u001b[0m                                Traceback (most recent call last)",
      "\u001b[1;32m~\\AppData\\Local\\Temp/ipykernel_25540/909404143.py\u001b[0m in \u001b[0;36m<module>\u001b[1;34m\u001b[0m\n\u001b[0;32m      9\u001b[0m     \u001b[0mp\u001b[0m \u001b[1;33m=\u001b[0m \u001b[0mpy_un\u001b[0m\u001b[1;33m.\u001b[0m\u001b[0mphotos\u001b[0m\u001b[1;33m(\u001b[0m\u001b[0mtype_\u001b[0m\u001b[1;33m=\u001b[0m\u001b[1;34m\"single\"\u001b[0m\u001b[1;33m,\u001b[0m \u001b[0mphoto_id\u001b[0m\u001b[1;33m=\u001b[0m\u001b[0munsplash_pair\u001b[0m\u001b[1;33m[\u001b[0m\u001b[1;36m0\u001b[0m\u001b[1;33m]\u001b[0m\u001b[1;33m)\u001b[0m\u001b[1;33m\u001b[0m\u001b[1;33m\u001b[0m\u001b[0m\n\u001b[0;32m     10\u001b[0m \u001b[1;33m\u001b[0m\u001b[0m\n\u001b[1;32m---> 11\u001b[1;33m     \u001b[0mprint\u001b[0m\u001b[1;33m(\u001b[0m\u001b[0mp\u001b[0m\u001b[1;33m.\u001b[0m\u001b[0mentries\u001b[0m\u001b[1;33m.\u001b[0m\u001b[0mget_attribution\u001b[0m\u001b[1;33m(\u001b[0m\u001b[0mformat\u001b[0m\u001b[1;33m=\u001b[0m\u001b[1;34m'txt'\u001b[0m\u001b[1;33m)\u001b[0m\u001b[1;33m)\u001b[0m\u001b[1;33m\u001b[0m\u001b[1;33m\u001b[0m\u001b[0m\n\u001b[0m\u001b[0;32m     12\u001b[0m \u001b[1;33m\u001b[0m\u001b[0m\n\u001b[0;32m     13\u001b[0m     \u001b[0munsplash_photos\u001b[0m\u001b[1;33m.\u001b[0m\u001b[0mappend\u001b[0m\u001b[1;33m(\u001b[0m\u001b[0mp\u001b[0m\u001b[1;33m)\u001b[0m\u001b[1;33m\u001b[0m\u001b[1;33m\u001b[0m\u001b[0m\n",
      "\u001b[1;32mc:\\Users\\jerem\\Documents\\PythonProjects\\UnsplashDownloader\\UnsplashDownloader\\lib\\site-packages\\pyunsplash\\src\\photos.py\u001b[0m in \u001b[0;36mentries\u001b[1;34m(self)\u001b[0m\n\u001b[0;32m     60\u001b[0m     \u001b[1;33m@\u001b[0m\u001b[0mproperty\u001b[0m\u001b[1;33m\u001b[0m\u001b[1;33m\u001b[0m\u001b[0m\n\u001b[0;32m     61\u001b[0m     \u001b[1;32mdef\u001b[0m \u001b[0mentries\u001b[0m\u001b[1;33m(\u001b[0m\u001b[0mself\u001b[0m\u001b[1;33m)\u001b[0m\u001b[1;33m:\u001b[0m\u001b[1;33m\u001b[0m\u001b[1;33m\u001b[0m\u001b[0m\n\u001b[1;32m---> 62\u001b[1;33m         \u001b[1;32mreturn\u001b[0m \u001b[0mPhoto\u001b[0m\u001b[1;33m(\u001b[0m\u001b[0mapi_key\u001b[0m\u001b[1;33m=\u001b[0m\u001b[0mself\u001b[0m\u001b[1;33m.\u001b[0m\u001b[0mapi_key\u001b[0m\u001b[1;33m,\u001b[0m \u001b[0msource\u001b[0m\u001b[1;33m=\u001b[0m\u001b[0mself\u001b[0m\u001b[1;33m.\u001b[0m\u001b[0mbody\u001b[0m\u001b[1;33m)\u001b[0m\u001b[1;33m\u001b[0m\u001b[1;33m\u001b[0m\u001b[0m\n\u001b[0m\u001b[0;32m     63\u001b[0m \u001b[1;33m\u001b[0m\u001b[0m\n\u001b[0;32m     64\u001b[0m \u001b[1;33m\u001b[0m\u001b[0m\n",
      "\u001b[1;32mc:\\Users\\jerem\\Documents\\PythonProjects\\UnsplashDownloader\\UnsplashDownloader\\lib\\site-packages\\pyunsplash\\src\\photos.py\u001b[0m in \u001b[0;36m__init__\u001b[1;34m(self, api_key, source, **kwargs)\u001b[0m\n\u001b[0;32m     70\u001b[0m             \u001b[1;31m# assume it's a photoid\u001b[0m\u001b[1;33m\u001b[0m\u001b[1;33m\u001b[0m\u001b[0m\n\u001b[0;32m     71\u001b[0m             \u001b[0msource\u001b[0m \u001b[1;33m=\u001b[0m \u001b[1;34m\"{}/photos/{}\"\u001b[0m\u001b[1;33m.\u001b[0m\u001b[0mformat\u001b[0m\u001b[1;33m(\u001b[0m\u001b[0mself\u001b[0m\u001b[1;33m.\u001b[0m\u001b[0m_api_root\u001b[0m\u001b[1;33m,\u001b[0m \u001b[0msource\u001b[0m\u001b[1;33m)\u001b[0m\u001b[1;33m\u001b[0m\u001b[1;33m\u001b[0m\u001b[0m\n\u001b[1;32m---> 72\u001b[1;33m         \u001b[0msuper\u001b[0m\u001b[1;33m(\u001b[0m\u001b[0mPhoto\u001b[0m\u001b[1;33m,\u001b[0m \u001b[0mself\u001b[0m\u001b[1;33m)\u001b[0m\u001b[1;33m.\u001b[0m\u001b[0m__init__\u001b[0m\u001b[1;33m(\u001b[0m\u001b[0mapi_key\u001b[0m\u001b[1;33m=\u001b[0m\u001b[0mapi_key\u001b[0m\u001b[1;33m,\u001b[0m \u001b[0msource\u001b[0m\u001b[1;33m=\u001b[0m\u001b[0msource\u001b[0m\u001b[1;33m,\u001b[0m \u001b[0mvalid_options\u001b[0m\u001b[1;33m=\u001b[0m\u001b[0mvalid_options\u001b[0m\u001b[1;33m,\u001b[0m \u001b[1;33m**\u001b[0m\u001b[0mkwargs\u001b[0m\u001b[1;33m)\u001b[0m\u001b[1;33m\u001b[0m\u001b[1;33m\u001b[0m\u001b[0m\n\u001b[0m\u001b[0;32m     73\u001b[0m \u001b[1;33m\u001b[0m\u001b[0m\n\u001b[0;32m     74\u001b[0m     \u001b[1;33m@\u001b[0m\u001b[0mproperty\u001b[0m\u001b[1;33m\u001b[0m\u001b[1;33m\u001b[0m\u001b[0m\n",
      "\u001b[1;32mc:\\Users\\jerem\\Documents\\PythonProjects\\UnsplashDownloader\\UnsplashDownloader\\lib\\site-packages\\pyunsplash\\src\\unobject.py\u001b[0m in \u001b[0;36m__init__\u001b[1;34m(self, api_key, source, valid_options, **kwargs)\u001b[0m\n\u001b[0;32m     33\u001b[0m \u001b[1;33m\u001b[0m\u001b[0m\n\u001b[0;32m     34\u001b[0m         \u001b[0mself\u001b[0m\u001b[1;33m.\u001b[0m\u001b[0mquery_parameters\u001b[0m \u001b[1;33m=\u001b[0m \u001b[0mself\u001b[0m\u001b[1;33m.\u001b[0m\u001b[0m_sanitized_query_parameters\u001b[0m\u001b[1;33m(\u001b[0m\u001b[0mkwargs\u001b[0m\u001b[1;33m)\u001b[0m\u001b[1;33m\u001b[0m\u001b[1;33m\u001b[0m\u001b[0m\n\u001b[1;32m---> 35\u001b[1;33m         \u001b[0mself\u001b[0m\u001b[1;33m.\u001b[0m\u001b[0m_parse_source\u001b[0m\u001b[1;33m(\u001b[0m\u001b[0msource\u001b[0m\u001b[1;33m)\u001b[0m  \u001b[1;31m# sets self.body, self.url\u001b[0m\u001b[1;33m\u001b[0m\u001b[1;33m\u001b[0m\u001b[0m\n\u001b[0m\u001b[0;32m     36\u001b[0m \u001b[1;33m\u001b[0m\u001b[0m\n\u001b[0;32m     37\u001b[0m         \u001b[1;32mif\u001b[0m \u001b[1;32mnot\u001b[0m \u001b[0mself\u001b[0m\u001b[1;33m.\u001b[0m\u001b[0m_agent\u001b[0m\u001b[1;33m:\u001b[0m\u001b[1;33m\u001b[0m\u001b[1;33m\u001b[0m\u001b[0m\n",
      "\u001b[1;32mc:\\Users\\jerem\\Documents\\PythonProjects\\UnsplashDownloader\\UnsplashDownloader\\lib\\site-packages\\pyunsplash\\src\\unobject.py\u001b[0m in \u001b[0;36m_parse_source\u001b[1;34m(self, source)\u001b[0m\n\u001b[0;32m     76\u001b[0m         \u001b[1;32melse\u001b[0m\u001b[1;33m:\u001b[0m\u001b[1;33m\u001b[0m\u001b[1;33m\u001b[0m\u001b[0m\n\u001b[0;32m     77\u001b[0m             \u001b[0mlogger\u001b[0m\u001b[1;33m.\u001b[0m\u001b[0minfo\u001b[0m\u001b[1;33m(\u001b[0m\u001b[1;34m'Invalid parameter to constructor: %s'\u001b[0m\u001b[1;33m,\u001b[0m \u001b[0msource\u001b[0m\u001b[1;33m)\u001b[0m\u001b[1;33m\u001b[0m\u001b[1;33m\u001b[0m\u001b[0m\n\u001b[1;32m---> 78\u001b[1;33m             \u001b[1;32mraise\u001b[0m \u001b[0mValueError\u001b[0m\u001b[1;33m(\u001b[0m\u001b[1;34m'Invalid parameter to constructor: %s'\u001b[0m \u001b[1;33m%\u001b[0m \u001b[0msource\u001b[0m\u001b[1;33m)\u001b[0m\u001b[1;33m\u001b[0m\u001b[1;33m\u001b[0m\u001b[0m\n\u001b[0m\u001b[0;32m     79\u001b[0m \u001b[1;33m\u001b[0m\u001b[0m\n\u001b[0;32m     80\u001b[0m     \u001b[1;32mdef\u001b[0m \u001b[0m_sanitized_query_parameters\u001b[0m\u001b[1;33m(\u001b[0m\u001b[0mself\u001b[0m\u001b[1;33m,\u001b[0m \u001b[0mkwargs\u001b[0m\u001b[1;33m)\u001b[0m\u001b[1;33m:\u001b[0m\u001b[1;33m\u001b[0m\u001b[1;33m\u001b[0m\u001b[0m\n",
      "\u001b[1;31mValueError\u001b[0m: Invalid parameter to constructor: None"
     ]
    }
   ],
   "source": [
    "import pyunsplash\n",
    "print(UNSPLASH_ACCESS_KEY)\n",
    "py_un = pyunsplash.PyUnsplash(api_key=UNSPLASH_ACCESS_KEY)\n",
    "\n",
    "unsplash_photos = []\n",
    "\n",
    "for unsplash_pair in unsplash_pairs:\n",
    "    print(unsplash_pair[0])\n",
    "    p = py_un.photos(type_=\"single\", photo_id=unsplash_pair[0])\n",
    "\n",
    "    print(p.entries.get_attribution(format='txt'))\n",
    "\n",
    "    unsplash_photos.append(p)\n",
    "\n",
    "shouldLog = False\n",
    "if shouldLog:\n",
    "    for unsplash_photo in unsplash_photos:\n",
    "        print(unsplash_photo.entries.get_attribution(format='txt'))\n",
    "        # print(unsplash_photo.entries.get_attribution(format='html'))"
   ]
  },
  {
   "cell_type": "code",
   "execution_count": null,
   "metadata": {},
   "outputs": [],
   "source": [
    "import requests\n",
    "\n",
    "for unsplash_photo in unsplash_photos:\n",
    "    response = requests.get(unsplash_photo.entries.link_download, allow_redirects=True)\n",
    "    open(WORKING_DIRECTORY + '\\\\' + unsplash_photo.entries.id + '.jpg', 'wb').write(response.content)"
   ]
  },
  {
   "cell_type": "code",
   "execution_count": null,
   "metadata": {},
   "outputs": [],
   "source": [
    "from PIL import Image\n",
    "\n",
    "shouldDisplay = False\n",
    "\n",
    "max_display = 2\n",
    "i = 0\n",
    "while shouldDisplay and i < len(unsplash_photos) and i < max_display:\n",
    "    display(Image.open(WORKING_DIRECTORY + '\\\\' + unsplash_photo.entries.id + '.jpg'))\n",
    "    i += 1"
   ]
  },
  {
   "cell_type": "markdown",
   "metadata": {},
   "source": [
    "# Create JSON object with Puzzle Metadata\n",
    "To integrate with GeoSwapper\n",
    "\n",
    "Sample JSON:\n",
    "{ \n",
    "    \"Questions\": [\n",
    "      {\n",
    "        \"author\": \"Kaleb Tapp\",\n",
    "        \"url\": \"https://unsplash.com/photos/3mvzYkSF-qY\",\n",
    "        \"puzzle\": \"GoatPortrait\",\n",
    "        \"answer\": \"Goat\",\n",
    "        \"tags\": [\n",
    "          \"Animals\"\n",
    "        ]\n",
    "      }\n",
    "    ]\n",
    "}\n",
    "\n",
    "Example of json format\n",
    "json = {\"Questions\": [{\"author\": \"a\", \"url\": \"example.com\", \"puzzle\": a, \"answer\": placeholder, \"tags\": [\"TagA\", \"TagB\"]}]}"
   ]
  },
  {
   "cell_type": "code",
   "execution_count": null,
   "metadata": {},
   "outputs": [],
   "source": [
    "import json\n",
    "from os.path import exists\n",
    "\n",
    "question_dictionary = {}\n",
    "\n",
    "questions = []\n",
    "\n",
    "for i in range(len(unsplash_photos)):\n",
    "    obj = {}\n",
    "    obj[\"author\"] = unsplash_photos[i].entries.body[\"user\"][\"name\"]\n",
    "    obj[\"url\"] = unsplash_photos[i].entries.body[\"links\"][\"html\"]\n",
    "    obj[\"puzzle\"] = unsplash_pairs[i][0]\n",
    "    obj[\"answer\"] = unsplash_pairs[i][1]\n",
    "    obj[\"tags\"] = unsplash_pairs[i][2]\n",
    "    # obj['tags'] = unsplash_photos[i].entries.body[\"tags\"]\n",
    "\n",
    "    questions.append(obj)\n",
    "\n",
    "question_dictionary['Questions'] = questions\n",
    "\n",
    "print(question_dictionary)\n",
    "\n",
    "jsonString = json.dumps(question_dictionary)\n",
    "\n",
    "path = WORKING_DIRECTORY + \"\\\\MetaData0.json\"\n",
    "i = 0\n",
    "while exists(path):\n",
    "    path = path[:-6] + str(i) + \".json\"\n",
    "    i += 1\n",
    "\n",
    "    print(path)\n",
    "\n",
    "jsonFile = open(path,\"w\")\n",
    "jsonFile.write(jsonString)\n",
    "jsonFile.close()"
   ]
  }
 ],
 "metadata": {
  "interpreter": {
   "hash": "85a86bd393d371e5cc4a3696ae70a6c15b4621a02123142d2a12aa35d5b49976"
  },
  "kernelspec": {
   "display_name": "Python 3.9.7 64-bit ('UnsplashDownloader': venv)",
   "language": "python",
   "name": "python3"
  },
  "language_info": {
   "codemirror_mode": {
    "name": "ipython",
    "version": 3
   },
   "file_extension": ".py",
   "mimetype": "text/x-python",
   "name": "python",
   "nbconvert_exporter": "python",
   "pygments_lexer": "ipython3",
   "version": "3.9.7"
  },
  "orig_nbformat": 4
 },
 "nbformat": 4,
 "nbformat_minor": 2
}
