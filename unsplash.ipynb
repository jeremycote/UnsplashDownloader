{
 "cells": [
  {
   "cell_type": "code",
   "execution_count": null,
   "metadata": {},
   "outputs": [],
   "source": [
    "# Load in the required dotenv vars\n",
    "import os\n",
    "\n",
    "# Config stuff\n",
    "%load_ext dotenv\n",
    "%dotenv\n",
    "\n",
    "UNSPLASH_ACCESS_KEY = os.environ.get(\"UNSPLASH_ACCESS_KEY\")\n",
    "UNSPLASH_ACCESS_KEY = UNSPLASH_ACCESS_KEY[1:-1]"
   ]
  },
  {
   "cell_type": "markdown",
   "metadata": {},
   "source": [
    "# Get Ids to download\n",
    "Get all ids from links.txt file"
   ]
  },
  {
   "cell_type": "code",
   "execution_count": null,
   "metadata": {},
   "outputs": [],
   "source": [
    "path = \"D:/links.txt\"\n",
    "with open(path) as f:\n",
    "    unsplash_ids = f.readlines()\n",
    "\n",
    "for i in range(len(unsplash_ids)):\n",
    "    unsplash_ids[i] = unsplash_ids[i].strip('\\n')\n",
    "\n",
    "print(unsplash_ids)"
   ]
  },
  {
   "cell_type": "markdown",
   "metadata": {},
   "source": [
    "# Request from Unsplash"
   ]
  },
  {
   "cell_type": "code",
   "execution_count": null,
   "metadata": {},
   "outputs": [],
   "source": [
    "import pyunsplash\n",
    "\n",
    "py_un = pyunsplash.PyUnsplash(api_key=UNSPLASH_ACCESS_KEY)\n",
    "\n",
    "unsplash_photos = []\n",
    "\n",
    "for unsplash_id in unsplash_ids:\n",
    "    p = py_un.photos(type_=\"single\", photo_id=unsplash_id)\n",
    "\n",
    "    print(p.entries.get_attribution(format='txt'))\n",
    "\n",
    "    unsplash_photos.append(p)\n",
    "\n",
    "shouldLog = False\n",
    "if shouldLog:\n",
    "    for unsplash_photo in unsplash_photos:\n",
    "        print(unsplash_photo.entries.get_attribution(format='txt'))\n",
    "        # print(unsplash_photo.entries.get_attribution(format='html'))"
   ]
  },
  {
   "cell_type": "code",
   "execution_count": null,
   "metadata": {},
   "outputs": [],
   "source": [
    "import requests\n",
    "\n",
    "for unsplash_photo in unsplash_photos:\n",
    "    response = requests.get(unsplash_photo.entries.link_download, allow_redirects=True)\n",
    "    open('D:/' + unsplash_photo.entries.id + '.jpg', 'wb').write(response.content)"
   ]
  },
  {
   "cell_type": "code",
   "execution_count": null,
   "metadata": {},
   "outputs": [],
   "source": [
    "from PIL import Image\n",
    "\n",
    "shouldDisplay = False\n",
    "\n",
    "max_display = 2\n",
    "i = 0\n",
    "while shouldDisplay and i < len(unsplash_photos) and i < max_display:\n",
    "    display(Image.open('D:/' + unsplash_photos[i].entries.id + '.jpg'))\n",
    "    i += 1"
   ]
  },
  {
   "cell_type": "markdown",
   "metadata": {},
   "source": [
    "# Create JSON object with Puzzle Metadata\n",
    "To integrate with GeoSwapper"
   ]
  }
 ],
 "metadata": {
  "interpreter": {
   "hash": "85a86bd393d371e5cc4a3696ae70a6c15b4621a02123142d2a12aa35d5b49976"
  },
  "kernelspec": {
   "display_name": "Python 3.9.7 64-bit ('UnsplashDownloader': venv)",
   "language": "python",
   "name": "python3"
  },
  "language_info": {
   "codemirror_mode": {
    "name": "ipython",
    "version": 3
   },
   "file_extension": ".py",
   "mimetype": "text/x-python",
   "name": "python",
   "nbconvert_exporter": "python",
   "pygments_lexer": "ipython3",
   "version": "3.9.7"
  },
  "orig_nbformat": 4
 },
 "nbformat": 4,
 "nbformat_minor": 2
}
