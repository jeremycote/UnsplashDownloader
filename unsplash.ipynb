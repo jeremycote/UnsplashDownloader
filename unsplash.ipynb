{
 "cells": [
  {
   "cell_type": "code",
   "execution_count": 258,
   "metadata": {},
   "outputs": [
    {
     "name": "stdout",
     "output_type": "stream",
     "text": [
      "The dotenv extension is already loaded. To reload it, use:\n",
      "  %reload_ext dotenv\n"
     ]
    }
   ],
   "source": [
    "# Load in the required dotenv vars\n",
    "import os\n",
    "\n",
    "# Config stuff\n",
    "%reload_ext dotenv\n",
    "%load_ext dotenv\n",
    "%dotenv\n",
    "\n",
    "\n",
    "UNSPLASH_ACCESS_KEY = os.environ.get(\"UNSPLASH_ACCESS_KEY\")\n",
    "UNSPLASH_ACCESS_KEY = UNSPLASH_ACCESS_KEY[1:-1]\n",
    "\n",
    "WORKING_DIRECTORY = os.environ.get(\"WORKING_DIRECTORY\")"
   ]
  },
  {
   "cell_type": "markdown",
   "metadata": {},
   "source": [
    "# Get Ids to download\n",
    "Get all ids from links.txt file"
   ]
  },
  {
   "cell_type": "code",
   "execution_count": 259,
   "metadata": {},
   "outputs": [
    {
     "name": "stdout",
     "output_type": "stream",
     "text": [
      "[('gqsXXRPLeYc', 'StarFish', ['Animals', 'Ocean'])]\n"
     ]
    }
   ],
   "source": [
    "path = WORKING_DIRECTORY + \"\\\\links.txt\"\n",
    "\n",
    "with open(path) as f:\n",
    "    unsplash_pairs = f.readlines()\n",
    "\n",
    "for i in range(len(unsplash_pairs)):\n",
    "    unsplash_pairs[i] = unsplash_pairs[i].strip('\\n')\n",
    "\n",
    "for i in range(len(unsplash_pairs)):\n",
    "    pieces = unsplash_pairs[i].split(' %=% ')\n",
    "    unsplash_pairs[i] = (pieces[0], pieces[1], pieces[2].split(','))\n",
    "\n",
    "\n",
    "print(unsplash_pairs)"
   ]
  },
  {
   "cell_type": "markdown",
   "metadata": {},
   "source": [
    "# Request from Unsplash"
   ]
  },
  {
   "cell_type": "code",
   "execution_count": 260,
   "metadata": {},
   "outputs": [
    {
     "name": "stdout",
     "output_type": "stream",
     "text": [
      "Photo by Taylor Beach on Unsplash\n"
     ]
    }
   ],
   "source": [
    "import pyunsplash\n",
    "\n",
    "py_un = pyunsplash.PyUnsplash(api_key=UNSPLASH_ACCESS_KEY)\n",
    "\n",
    "unsplash_photos = []\n",
    "\n",
    "for unsplash_pair in unsplash_pairs:\n",
    "    p = py_un.photos(type_=\"single\", photo_id=unsplash_pair[0])\n",
    "\n",
    "    print(p.entries.get_attribution(format='txt'))\n",
    "\n",
    "    unsplash_photos.append(p)\n",
    "\n",
    "shouldLog = False\n",
    "if shouldLog:\n",
    "    for unsplash_photo in unsplash_photos:\n",
    "        print(unsplash_photo.entries.get_attribution(format='txt'))\n",
    "        # print(unsplash_photo.entries.get_attribution(format='html'))"
   ]
  },
  {
   "cell_type": "code",
   "execution_count": 261,
   "metadata": {},
   "outputs": [],
   "source": [
    "import requests\n",
    "\n",
    "for unsplash_photo in unsplash_photos:\n",
    "    response = requests.get(unsplash_photo.entries.link_download, allow_redirects=True)\n",
    "    open(WORKING_DIRECTORY + '\\\\' + unsplash_photo.entries.id + '.jpg', 'wb').write(response.content)"
   ]
  },
  {
   "cell_type": "code",
   "execution_count": 262,
   "metadata": {},
   "outputs": [],
   "source": [
    "from PIL import Image\n",
    "\n",
    "shouldDisplay = False\n",
    "\n",
    "max_display = 2\n",
    "i = 0\n",
    "while shouldDisplay and i < len(unsplash_photos) and i < max_display:\n",
    "    display(Image.open(WORKING_DIRECTORY + '\\\\' + unsplash_photo.entries.id + '.jpg'))\n",
    "    i += 1"
   ]
  },
  {
   "cell_type": "markdown",
   "metadata": {},
   "source": [
    "# Create JSON object with Puzzle Metadata\n",
    "To integrate with GeoSwapper\n",
    "\n",
    "Sample JSON:\n",
    "{ \n",
    "    \"Questions\": [\n",
    "      {\n",
    "        \"author\": \"Kaleb Tapp\",\n",
    "        \"url\": \"https://unsplash.com/photos/3mvzYkSF-qY\",\n",
    "        \"puzzle\": \"GoatPortrait\",\n",
    "        \"answer\": \"Goat\",\n",
    "        \"tags\": [\n",
    "          \"Animals\"\n",
    "        ]\n",
    "      }\n",
    "    ]\n",
    "}\n",
    "\n",
    "Example of json format\n",
    "json = {\"Questions\": [{\"author\": \"a\", \"url\": \"example.com\", \"puzzle\": a, \"answer\": placeholder, \"tags\": [\"TagA\", \"TagB\"]}]}"
   ]
  },
  {
   "cell_type": "code",
   "execution_count": 263,
   "metadata": {},
   "outputs": [
    {
     "name": "stdout",
     "output_type": "stream",
     "text": [
      "{'Questions': [{'author': 'Taylor Beach', 'url': 'https://unsplash.com/photos/gqsXXRPLeYc', 'puzzle': 'gqsXXRPLeYc', 'answer': 'StarFish', 'tags': ['Animals', 'Ocean']}]}\n"
     ]
    }
   ],
   "source": [
    "import json\n",
    "from os.path import exists\n",
    "\n",
    "question_dictionary = {}\n",
    "\n",
    "questions = []\n",
    "\n",
    "for i in range(len(unsplash_photos)):\n",
    "    obj = {}\n",
    "    obj[\"author\"] = unsplash_photos[i].entries.body[\"user\"][\"name\"]\n",
    "    obj[\"url\"] = unsplash_photos[i].entries.body[\"links\"][\"html\"]\n",
    "    obj[\"puzzle\"] = unsplash_pairs[i][0]\n",
    "    obj[\"answer\"] = unsplash_pairs[i][1]\n",
    "    obj[\"tags\"] = unsplash_pairs[i][2]\n",
    "    # obj['tags'] = unsplash_photos[i].entries.body[\"tags\"]\n",
    "\n",
    "    questions.append(obj)\n",
    "\n",
    "question_dictionary['Questions'] = questions\n",
    "\n",
    "print(question_dictionary)\n",
    "\n",
    "jsonString = json.dumps(question_dictionary)\n",
    "\n",
    "path = WORKING_DIRECTORY + \"\\\\MetaData0.json\"\n",
    "i = 0\n",
    "while exists(path):\n",
    "    path = path[:-6] + str(i) + \".json\"\n",
    "    i += 1\n",
    "\n",
    "    print(path)\n",
    "\n",
    "jsonFile = open(path,\"w\")\n",
    "jsonFile.write(jsonString)\n",
    "jsonFile.close()"
   ]
  }
 ],
 "metadata": {
  "interpreter": {
   "hash": "85a86bd393d371e5cc4a3696ae70a6c15b4621a02123142d2a12aa35d5b49976"
  },
  "kernelspec": {
   "display_name": "Python 3.9.7 64-bit ('UnsplashDownloader': venv)",
   "language": "python",
   "name": "python3"
  },
  "language_info": {
   "codemirror_mode": {
    "name": "ipython",
    "version": 3
   },
   "file_extension": ".py",
   "mimetype": "text/x-python",
   "name": "python",
   "nbconvert_exporter": "python",
   "pygments_lexer": "ipython3",
   "version": "3.9.7"
  },
  "orig_nbformat": 4
 },
 "nbformat": 4,
 "nbformat_minor": 2
}
